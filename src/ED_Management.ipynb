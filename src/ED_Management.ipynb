{
 "cells": [
  {
   "cell_type": "markdown",
   "id": "b8d01ef7-4aef-44bd-816a-7d7606343349",
   "metadata": {},
   "source": [
    "# Predicting Emergency Department Load\n",
    "\n",
    "This notebook uses Python-based machine learning and data science libraries in an attempt to build a model that uses a SARIMAX model to do time-based modelling to predict the workload for emergency departments\n",
    "\n",
    "I am going to take the following approach:\n",
    "1. Problem definition\n",
    "2. Data\n",
    "3. Evaluation\n",
    "4. Features\n",
    "5. Modelling\n",
    "6. Experimentation\n",
    "\n",
    "## 1. Problem Definition\n",
    "\n",
    "In a statement,\n",
    " > To forecast inpatient admissions arising from ED visits for the next 7 days\n",
    "\n",
    "\n",
    "## 2. Data\n",
    "\n",
    "The current Data comes from ED Attendance:\n",
    "https://www.moh.gov.sg/others/resources-and-statistics/healthcare-institution-statistics-attendances-at-emergency-medicine-departments\n",
    "\n",
    "The exogenous data set is found in:\n",
    "https://www.mom.gov.sg/employment-practices/public-holidays\n",
    "\n",
    "and the inpatient ED Admission - Synthesis with valid assumptions is found here:\n",
    "https://journals.lww.com/smj/fulltext/9900/2021_nedi_singapore_study__an_updated_inventory_of.157.aspx\n",
    "\n",
    "## 3. Evaluation\n",
    "\n",
    "> To be confirmed\n",
    "\n",
    "## 4. Features\n",
    "This section summarizes the information about each feature in the dataset"
   ]
  },
  {
   "cell_type": "markdown",
   "id": "480f50db-e558-46d3-ad90-8b716808006a",
   "metadata": {},
   "source": [
    "## Data dictionary\n",
    "\n",
    "- **Date** The date of the current year\n",
    "- **AH** — Alexandra Hospital\n",
    "- **CGH** — Changi General Hospital\n",
    "- **KTPH** — Khoo Teck Phuat Hospital\n",
    "- **NTFGH** — Ng Teng Fong Hospital\n",
    "- **NUH(A)** — National Univeristy Hospital (Admissions)\n",
    "- **SGH** — Singapore General Hospital\n",
    "- **SKH** — Sengkang Hospital\n",
    "- **TTSH** — Tan Tock Seng Hospital\n",
    "- **WH** — Woodlands Health"
   ]
  },
  {
   "cell_type": "markdown",
   "id": "3bd4a2b3-efb1-4cb4-9b7f-88161443bc3e",
   "metadata": {},
   "source": [
    "## Preparing the tools\n",
    "\n",
    "Use pandas, matplotlib, seaborn and NumPy for data analysis and visualization. scikit‑learn provides models, metrics, and CV utilities."
   ]
  },
  {
   "cell_type": "code",
   "execution_count": 3,
   "id": "bfc08a55-e2fa-44aa-85df-d4cd7784c197",
   "metadata": {},
   "outputs": [
    {
     "name": "stdout",
     "output_type": "stream",
     "text": [
      "All packages imported successfully with Python 3.10!\n"
     ]
    }
   ],
   "source": [
    "# Import all of the tools (Python 3.13 compatible)\n",
    "\n",
    "# EDA (Exploratory data analysis) and plotting libraries\n",
    "import pandas as pd\n",
    "import numpy as np\n",
    "import matplotlib.pyplot as plt\n",
    "import seaborn as sns\n",
    "\n",
    "# To have all the plots appear inside the notebook\n",
    "%matplotlib inline\n",
    "\n",
    "# Model for SARIMAX (using statsmodels directly)\n",
    "from datetime import datetime\n",
    "from matplotlib.pylab import rcParams\n",
    "from statsmodels.tsa.stattools import adfuller\n",
    "from statsmodels.tsa.statespace.sarimax import SARIMAX\n",
    "from statsmodels.tsa.seasonal import seasonal_decompose\n",
    "from statsmodels.tsa.arima.model import ARIMA\n",
    "\n",
    "# Model Evaluations (focused on time series forecasting)\n",
    "from sklearn.metrics import mean_absolute_error, mean_squared_error\n",
    "from sklearn.preprocessing import StandardScaler\n",
    "from scipy.stats import randint, uniform\n",
    "\n",
    "print(\"All packages imported successfully with Python 3.10!\")"
   ]
  },
  {
   "cell_type": "markdown",
   "id": "53357bcb-29ba-497a-877f-43a9856fe1ab",
   "metadata": {},
   "source": [
    "# Load Data"
   ]
  },
  {
   "cell_type": "code",
   "execution_count": 34,
   "id": "0842063c",
   "metadata": {},
   "outputs": [
    {
     "data": {
      "text/html": [
       "<div>\n",
       "<style scoped>\n",
       "    .dataframe tbody tr th:only-of-type {\n",
       "        vertical-align: middle;\n",
       "    }\n",
       "\n",
       "    .dataframe tbody tr th {\n",
       "        vertical-align: top;\n",
       "    }\n",
       "\n",
       "    .dataframe thead th {\n",
       "        text-align: right;\n",
       "    }\n",
       "</style>\n",
       "<table border=\"1\" class=\"dataframe\">\n",
       "  <thead>\n",
       "    <tr style=\"text-align: right;\">\n",
       "      <th></th>\n",
       "      <th>Date</th>\n",
       "      <th>AH</th>\n",
       "      <th>CGH</th>\n",
       "      <th>KTPH</th>\n",
       "      <th>NTFGH</th>\n",
       "      <th>NUH(A)</th>\n",
       "      <th>SGH</th>\n",
       "      <th>SKH</th>\n",
       "      <th>TTSH</th>\n",
       "      <th>WH</th>\n",
       "    </tr>\n",
       "  </thead>\n",
       "  <tbody>\n",
       "    <tr>\n",
       "      <th>0</th>\n",
       "      <td>01/01/2023</td>\n",
       "      <td>64</td>\n",
       "      <td>351</td>\n",
       "      <td>286</td>\n",
       "      <td>252</td>\n",
       "      <td>257</td>\n",
       "      <td>309</td>\n",
       "      <td>333</td>\n",
       "      <td>336</td>\n",
       "      <td>NaN</td>\n",
       "    </tr>\n",
       "    <tr>\n",
       "      <th>1</th>\n",
       "      <td>01/02/2023</td>\n",
       "      <td>61</td>\n",
       "      <td>386</td>\n",
       "      <td>326</td>\n",
       "      <td>314</td>\n",
       "      <td>334</td>\n",
       "      <td>342</td>\n",
       "      <td>346</td>\n",
       "      <td>370</td>\n",
       "      <td>NaN</td>\n",
       "    </tr>\n",
       "    <tr>\n",
       "      <th>2</th>\n",
       "      <td>01/03/2023</td>\n",
       "      <td>76</td>\n",
       "      <td>436</td>\n",
       "      <td>401</td>\n",
       "      <td>364</td>\n",
       "      <td>352</td>\n",
       "      <td>343</td>\n",
       "      <td>397</td>\n",
       "      <td>422</td>\n",
       "      <td>NaN</td>\n",
       "    </tr>\n",
       "    <tr>\n",
       "      <th>3</th>\n",
       "      <td>01/04/2023</td>\n",
       "      <td>74</td>\n",
       "      <td>354</td>\n",
       "      <td>311</td>\n",
       "      <td>330</td>\n",
       "      <td>286</td>\n",
       "      <td>305</td>\n",
       "      <td>327</td>\n",
       "      <td>361</td>\n",
       "      <td>NaN</td>\n",
       "    </tr>\n",
       "    <tr>\n",
       "      <th>4</th>\n",
       "      <td>01/05/2023</td>\n",
       "      <td>61</td>\n",
       "      <td>373</td>\n",
       "      <td>335</td>\n",
       "      <td>320</td>\n",
       "      <td>309</td>\n",
       "      <td>337</td>\n",
       "      <td>351</td>\n",
       "      <td>366</td>\n",
       "      <td>NaN</td>\n",
       "    </tr>\n",
       "  </tbody>\n",
       "</table>\n",
       "</div>"
      ],
      "text/plain": [
       "         Date  AH  CGH  KTPH  NTFGH  NUH(A)  SGH  SKH  TTSH  WH\n",
       "0  01/01/2023  64  351   286    252     257  309  333   336 NaN\n",
       "1  01/02/2023  61  386   326    314     334  342  346   370 NaN\n",
       "2  01/03/2023  76  436   401    364     352  343  397   422 NaN\n",
       "3  01/04/2023  74  354   311    330     286  305  327   361 NaN\n",
       "4  01/05/2023  61  373   335    320     309  337  351   366 NaN"
      ]
     },
     "execution_count": 34,
     "metadata": {},
     "output_type": "execute_result"
    }
   ],
   "source": [
    "# To load the data\n",
    "\n",
    "data = pd.read_csv(\"../data/Attendances at EMD_week37Y2025.csv\", skiprows=2)\n",
    "data.head()"
   ]
  },
  {
   "cell_type": "markdown",
   "id": "60d27c7f",
   "metadata": {},
   "source": [
    "## Data Exploration (Exploratory Data Analysis or EDA)"
   ]
  },
  {
   "cell_type": "markdown",
   "id": "b856012f",
   "metadata": {},
   "source": [
    "The goal here is to learn the dataset and spot patterns to guide modeling.\n",
    "\n",
    "Key questions:\n",
    "- What question(s) are we trying to solve?\n",
    "- What types are the features and how should we treat them?\n",
    "- What's missing and how should we handle it?\n",
    "- Where are the outliers and do they matter?\n",
    "- How can we add/change/remove features to improve signal?"
   ]
  },
  {
   "cell_type": "code",
   "execution_count": 42,
   "id": "00650061",
   "metadata": {},
   "outputs": [
    {
     "data": {
      "text/plain": [
       "(980, 10)"
      ]
     },
     "execution_count": 42,
     "metadata": {},
     "output_type": "execute_result"
    }
   ],
   "source": [
    "# Checking basic dataset information\n",
    "\n",
    "# 1. Dataset shape\n",
    "data.shape"
   ]
  },
  {
   "cell_type": "code",
   "execution_count": 46,
   "id": "ee26d601",
   "metadata": {},
   "outputs": [
    {
     "name": "stdout",
     "output_type": "stream",
     "text": [
      "Date range: 2023-01-01 to 2025-09-06\n"
     ]
    }
   ],
   "source": [
    "# 2. Date range (Need to convert to datetime first to see the length of days)\n",
    "data['Date'] = pd.to_datetime(data['Date'])\n",
    "print(f\"Date range: {data['Date'].min().date()} to {data['Date'].max().date()}\")"
   ]
  },
  {
   "cell_type": "code",
   "execution_count": 47,
   "id": "fa8a325e",
   "metadata": {},
   "outputs": [
    {
     "name": "stdout",
     "output_type": "stream",
     "text": [
      "Total days:980\n"
     ]
    }
   ],
   "source": [
    "# 3. Total days\n",
    "print(f\"Total days:{len(data)}\")"
   ]
  },
  {
   "cell_type": "code",
   "execution_count": 48,
   "id": "936dd700",
   "metadata": {},
   "outputs": [
    {
     "name": "stdout",
     "output_type": "stream",
     "text": [
      "Total columns: 9\n"
     ]
    }
   ],
   "source": [
    "# 4. How many columns are there\n",
    "print(f\"Total columns: {len(data.columns[1:])}\")"
   ]
  },
  {
   "cell_type": "markdown",
   "id": "ae02b702",
   "metadata": {},
   "source": [
    "## Basic Dataset Summary\n",
    "\n",
    "### 📊 **Dataset Dimensions**\n",
    "- **Shape**: 980 rows × 10 columns\n",
    "- **Time Coverage**: January 1, 2023 to September 6, 2025 (2 years, 8 months)\n",
    "- **Total Observations**: 980 daily records\n",
    "- **Hospital Columns**: 9 hospitals tracked\n",
    "\n",
    "### 🏥 **Data Coverage by Year**\n",
    "- **2023**: 365 days (complete year)\n",
    "- **2024**: 366 days (leap year - complete)  \n",
    "- **2025**: 249 days (January 1 - September 6)\n",
    "\n",
    "### 🔍 **Key Characteristics**\n",
    "- **Frequency**: Daily time series data\n",
    "- **Missing Data**: Minimal (only WH hospital due to late opening)\n",
    "- **Data Quality**: High consistency across hospitals\n",
    "- **Time Series Length**: Sufficient for robust SARIMAX modeling (980+ observations)"
   ]
  },
  {
   "cell_type": "markdown",
   "id": "aced52d5",
   "metadata": {},
   "source": [
    "## Data Types and Missing Values"
   ]
  },
  {
   "cell_type": "code",
   "execution_count": 57,
   "id": "b3da84ca",
   "metadata": {},
   "outputs": [
    {
     "name": "stdout",
     "output_type": "stream",
     "text": [
      "<class 'pandas.core.frame.DataFrame'>\n",
      "RangeIndex: 980 entries, 0 to 979\n",
      "Data columns (total 10 columns):\n",
      " #   Column  Non-Null Count  Dtype         \n",
      "---  ------  --------------  -----         \n",
      " 0   Date    980 non-null    datetime64[ns]\n",
      " 1   AH      980 non-null    int64         \n",
      " 2   CGH     980 non-null    int64         \n",
      " 3   KTPH    980 non-null    int64         \n",
      " 4   NTFGH   980 non-null    int64         \n",
      " 5   NUH(A)  980 non-null    int64         \n",
      " 6   SGH     980 non-null    int64         \n",
      " 7   SKH     980 non-null    int64         \n",
      " 8   TTSH    980 non-null    int64         \n",
      " 9   WH      980 non-null    int64         \n",
      "dtypes: datetime64[ns](1), int64(9)\n",
      "memory usage: 76.7 KB\n",
      "None\n"
     ]
    }
   ],
   "source": [
    "#1. Information\n",
    "print(data.info())"
   ]
  },
  {
   "cell_type": "code",
   "execution_count": 40,
   "id": "c7e13015",
   "metadata": {},
   "outputs": [
    {
     "name": "stdout",
     "output_type": "stream",
     "text": [
      "Date        0\n",
      "AH          0\n",
      "CGH         0\n",
      "KTPH        0\n",
      "NTFGH       0\n",
      "NUH(A)      0\n",
      "SGH         0\n",
      "SKH         0\n",
      "TTSH        0\n",
      "WH        539\n",
      "dtype: int64\n"
     ]
    }
   ],
   "source": [
    "# Checking for missing values\n",
    "print(data.isnull().sum())"
   ]
  },
  {
   "cell_type": "code",
   "execution_count": 41,
   "id": "847c7ee4",
   "metadata": {},
   "outputs": [
    {
     "name": "stdout",
     "output_type": "stream",
     "text": [
      "Date       0.0\n",
      "AH         0.0\n",
      "CGH        0.0\n",
      "KTPH       0.0\n",
      "NTFGH      0.0\n",
      "NUH(A)     0.0\n",
      "SGH        0.0\n",
      "SKH        0.0\n",
      "TTSH       0.0\n",
      "WH        55.0\n",
      "dtype: float64\n"
     ]
    }
   ],
   "source": [
    "# Check for missing values per column\n",
    "print((data.isnull().sum()) / len(data) * 100)"
   ]
  },
  {
   "cell_type": "markdown",
   "id": "37fedbc5",
   "metadata": {},
   "source": [
    "## Data Quality Assessment\n",
    "\n",
    "Based on the initial data exploration, here are the key data quality observations:\n",
    "\n",
    "### ✅ **What's Working Well:**\n",
    "- **Complete data coverage**: 980 days from Jan 2023 to Sep 2025\n",
    "- **No missing values** in most hospital columns (8 out of 9 hospitals)\n",
    "- **Consistent daily frequency** with no date gaps\n",
    "- **Reasonable value ranges** for hospital attendance counts\n",
    "\n",
    "### ⚠️ **Issues to Address:**\n",
    "\n",
    "#### 1. **Woodlands Health (WH) Missing Values**\n",
    "- **Issue**: WH column has significant missing values (~25% of data)\n",
    "- **Context**: Woodlands Health opened later than other hospitals, explaining the missing data\n",
    "- **Solution**: Fill missing values with 0 (representing no attendance before hospital opening)\n",
    "\n",
    "#### 2. **Data Type Inconsistency**\n",
    "- **Issue**: WH column stored as `float64` due to NaN values\n",
    "- **Impact**: Should be integer type for consistency with other hospital columns\n",
    "- **Solution**: After filling missing values, convert to integer type\n",
    "\n",
    "### 📋 **Recommended Data Cleaning Steps:**\n",
    "1. Fill WH missing values with 0\n",
    "2. Convert all hospital columns to integer type\n",
    "3. Verify data integrity after cleaning"
   ]
  },
  {
   "cell_type": "code",
   "execution_count": null,
   "id": "b933724d",
   "metadata": {},
   "outputs": [],
   "source": [
    "# # Investigate the actual date range and data issues\n",
    "\n",
    "# # Convert Date column to datetime for proper analysis\n",
    "# data['Date'] = pd.to_datetime(data['Date'])\n",
    "\n",
    "# # Check the actual date range\n",
    "# print(f\"Actual date range: {data['Date'].min()} to {data['Date'].max()}\")\n",
    "# print(f\"Total days in dataset: {len(data)}\")\n",
    "\n",
    "# # Check year distribution\n",
    "# print(f\"\\nYear distribution:\")\n",
    "# print(data['Date'].dt.year.value_counts().sort_index())\n",
    "\n",
    "# # Check the last few rows to see what's happening\n",
    "# print(f\"\\nLast 10 rows of data:\")\n",
    "# print(data[['Date']].tail(10))\n",
    "\n",
    "# # Check if there are any dates in 2025\n",
    "# data_2025 = data[data['Date'].dt.year == 2025]\n",
    "# print(f\"\\nRows with 2025 dates: {len(data_2025)}\")\n",
    "# if len(data_2025) > 0:\n",
    "#     print(f\"2025 date range: {data_2025['Date'].min()} to {data_2025['Date'].max()}\")\n",
    "\n",
    "# # Check for any parsing issues\n",
    "# print(f\"\\nAny invalid dates?: {data['Date'].isnull().sum()}\")"
   ]
  },
  {
   "cell_type": "code",
   "execution_count": 56,
   "id": "0aac0c0f",
   "metadata": {},
   "outputs": [
    {
     "name": "stdout",
     "output_type": "stream",
     "text": [
      "Date      0\n",
      "AH        0\n",
      "CGH       0\n",
      "KTPH      0\n",
      "NTFGH     0\n",
      "NUH(A)    0\n",
      "SGH       0\n",
      "SKH       0\n",
      "TTSH      0\n",
      "WH        0\n",
      "dtype: int64\n"
     ]
    }
   ],
   "source": [
    "# Fill the missing values with 0\n",
    "\n",
    "data.fillna(0, inplace=True)\n",
    "print(data.isnull().sum())\n",
    "# print(data.head())"
   ]
  },
  {
   "cell_type": "code",
   "execution_count": 55,
   "id": "008bc98f",
   "metadata": {},
   "outputs": [
    {
     "name": "stdout",
     "output_type": "stream",
     "text": [
      "<class 'pandas.core.frame.DataFrame'>\n",
      "RangeIndex: 980 entries, 0 to 979\n",
      "Data columns (total 10 columns):\n",
      " #   Column  Non-Null Count  Dtype         \n",
      "---  ------  --------------  -----         \n",
      " 0   Date    980 non-null    datetime64[ns]\n",
      " 1   AH      980 non-null    int64         \n",
      " 2   CGH     980 non-null    int64         \n",
      " 3   KTPH    980 non-null    int64         \n",
      " 4   NTFGH   980 non-null    int64         \n",
      " 5   NUH(A)  980 non-null    int64         \n",
      " 6   SGH     980 non-null    int64         \n",
      " 7   SKH     980 non-null    int64         \n",
      " 8   TTSH    980 non-null    int64         \n",
      " 9   WH      980 non-null    int64         \n",
      "dtypes: datetime64[ns](1), int64(9)\n",
      "memory usage: 76.7 KB\n",
      "None\n"
     ]
    }
   ],
   "source": [
    "# Convert WH to integer\n",
    "data[\"WH\"] = data[\"WH\"].astype(int)\n",
    "print(data.info())\n",
    "# print(data.head())"
   ]
  },
  {
   "cell_type": "markdown",
   "id": "c6560749",
   "metadata": {},
   "source": [
    "## Date Column Analysis"
   ]
  },
  {
   "cell_type": "code",
   "execution_count": 58,
   "id": "3312826b",
   "metadata": {},
   "outputs": [
    {
     "name": "stdout",
     "output_type": "stream",
     "text": [
      "Years covered: [np.int32(2023), np.int32(2024), np.int32(2025)]\n",
      "Months covered: [np.int32(1), np.int32(2), np.int32(3), np.int32(4), np.int32(5), np.int32(6), np.int32(7), np.int32(8), np.int32(9), np.int32(10), np.int32(11), np.int32(12)]\n",
      "Day distribution:\n",
      "DayOfWeek\n",
      "6    140\n",
      "0    140\n",
      "1    140\n",
      "2    140\n",
      "3    140\n",
      "4    140\n",
      "5    140\n",
      "Name: count, dtype: int64\n",
      "Weekend vs Weekday: IsWeekend\n",
      "False    700\n",
      "True     280\n",
      "Name: count, dtype: int64\n"
     ]
    }
   ],
   "source": [
    "data[\"Year\"] = data[\"Date\"].dt.year\n",
    "data[\"Month\"] = data[\"Date\"].dt.month\n",
    "data[\"Day\"] = data[\"Date\"].dt.day\n",
    "data[\"DayOfWeek\"] = data[\"Date\"].dt.dayofweek\n",
    "data[\"IsWeekend\"] = data[\"Date\"].dt.weekday >= 5\n",
    "\n",
    "print(f\"Years covered: {sorted(data['Year'].unique())}\")\n",
    "print(f\"Months covered: {sorted(data['Month'].unique())}\")\n",
    "print(f\"Day distribution:\")\n",
    "print(data['DayOfWeek'].value_counts())\n",
    "print(f\"Weekend vs Weekday: {data['IsWeekend'].value_counts()}\")"
   ]
  },
  {
   "cell_type": "code",
   "execution_count": 61,
   "id": "1e4543fd",
   "metadata": {},
   "outputs": [
    {
     "data": {
      "image/png": "[encoded data removed]",
      "text/plain": [
       "<Figure size 800x500 with 1 Axes>"
      ]
     },
     "metadata": {},
     "output_type": "display_data"
    }
   ],
   "source": [
    "# Plotting out bar graph to visualize data distribution by year\n",
    "year_counts = data[\"Year\"].value_counts().sort_index()\n",
    "\n",
    "# Create the bar plot\n",
    "plt.figure(figsize=(8,5))\n",
    "year_counts.plot(kind='bar', color=[\"salmon\", \"skyblue\", \"lightgreen\"])\n",
    "plt.title(\"Data Distribution by Year\")\n",
    "plt.xlabel(\"Year\")\n",
    "plt.ylabel(\"Number of Days\")\n",
    "plt.xticks(rotation=0)\n",
    "plt.tight_layout()\n",
    "plt.show()"
   ]
  },
  {
   "cell_type": "code",
   "execution_count": 63,
   "id": "3d86e3d9",
   "metadata": {},
   "outputs": [
    {
     "data": {
      "image/png": "[encoded data removed]",
      "text/plain": [
       "<Figure size 800x500 with 1 Axes>"
      ]
     },
     "metadata": {},
     "output_type": "display_data"
    }
   ],
   "source": [
    "# Bar graph to visualize Weekday vs Weekend distribution\n",
    "\n",
    "weekend_counts = data[\"IsWeekend\"].value_counts().sort_index()\n",
    "plt.figure(figsize=(8,5))\n",
    "weekend_counts.plot(kind='bar', color=[\"salmon\", \"skyblue\"])\n",
    "plt.title(\"Data Distribution: Weekday vs Weekend\")\n",
    "plt.xlabel(\"Is Weekend\")\n",
    "plt.ylabel(\"Number of Days\")\n",
    "plt.tight_layout()\n",
    "plt.show()"
   ]
  },
  {
   "cell_type": "markdown",
   "id": "6ff1506e",
   "metadata": {},
   "source": [
    "## Temporal Distribution Analysis\n",
    "\n",
    "### 📅 **Year Coverage**\n",
    "- **Years**: 2023, 2024, 2025\n",
    "- **Complete Coverage**: Full years for 2023-2024, partial 2025 (Jan-Sep)\n",
    "- **Total Duration**: 2 years and 8 months of continuous data\n",
    "\n",
    "### 📆 **Monthly Coverage**\n",
    "- **Months**: All 12 months represented (January through December)\n",
    "- **Seasonal Completeness**: Full seasonal cycles captured for robust time series analysis\n",
    "- **Pattern Detection**: Sufficient data to identify monthly/seasonal trends\n",
    "\n",
    "### 🗓️ **Day of Week Distribution**\n",
    "- **Perfect Balance**: Exactly 140 observations for each day of the week\n",
    "- **Monday (0)**: 140 days | **Tuesday (1)**: 140 days | **Wednesday (2)**: 140 days\n",
    "- **Thursday (3)**: 140 days | **Friday (4)**: 140 days | **Saturday (5)**: 140 days | **Sunday (6)**: 140 days\n",
    "- **Implication**: No day-of-week bias in the dataset\n",
    "\n",
    "### 📊 **Weekend vs Weekday Analysis**\n",
    "- **Weekdays (Mon-Fri)**: 700 observations (71.4%)\n",
    "- **Weekends (Sat-Sun)**: 280 observations (28.6%)\n",
    "- **Expected Ratio**: ~5:2 ratio aligns with natural calendar distribution\n",
    "- **SARIMAX Benefit**: Clear weekend/weekday pattern for exogenous variable modeling\n",
    "\n",
    "### 🔍 **Key Insights for Time Series Modeling**\n",
    "- **Balanced Data**: Equal representation across all days eliminates sampling bias\n",
    "- **Seasonal Coverage**: Multiple complete seasonal cycles for trend analysis\n",
    "- **Weekend Effects**: Clear distinction for modeling day-of-week patterns\n",
    "- **Forecast Reliability**: Strong foundation for 7-day ahead predictions"
   ]
  },
  {
   "cell_type": "markdown",
   "id": "49bd1272",
   "metadata": {},
   "source": []
  },
  {
   "cell_type": "markdown",
   "id": "538e47aa",
   "metadata": {},
   "source": [
    "## Hospital Attendance Statistics"
   ]
  },
  {
   "cell_type": "code",
   "execution_count": 69,
   "id": "7962191e",
   "metadata": {},
   "outputs": [
    {
     "name": "stdout",
     "output_type": "stream",
     "text": [
      "        count        mean        std    min    25%    50%    75%    max\n",
      "AH      980.0   64.194898  10.936990    7.0   57.0   64.0   71.0  112.0\n",
      "CGH     980.0  371.106122  42.092618  251.0  341.0  369.0  398.0  501.0\n",
      "KTPH    980.0  278.730612  54.707420  156.0  233.0  278.0  319.0  431.0\n",
      "NTFGH   980.0  326.003061  40.697506  205.0  297.0  323.0  354.0  432.0\n",
      "NUH(A)  980.0  298.500000  37.762510  162.0  270.0  296.0  321.0  442.0\n",
      "SGH     980.0  317.341837  34.405241  208.0  296.0  316.0  336.0  429.0\n",
      "SKH     980.0  348.860204  36.599701  244.0  324.0  346.0  370.0  490.0\n",
      "TTSH    980.0  366.621429  39.755234  252.0  340.0  367.0  390.0  499.0\n",
      "WH      980.0   84.019388  96.466524    0.0    0.0    0.0  182.0  315.0\n"
     ]
    }
   ],
   "source": [
    "hospital_cols = ['AH', 'CGH', 'KTPH', 'NTFGH', 'NUH(A)', 'SGH', 'SKH', 'TTSH', 'WH']\n",
    "hospital_stats = data[hospital_cols].describe().T\n",
    "print(hospital_stats)"
   ]
  },
  {
   "cell_type": "markdown",
   "id": "2a3c0bcb",
   "metadata": {},
   "source": [
    "### 🏥 **Key Insights**\n",
    "\n",
    "#### **Highest Volume Hospitals**\n",
    "1. **CGH** (Changi General): 371.1 avg daily attendances\n",
    "2. **TTSH** (Tan Tock Seng): 366.6 avg daily attendances  \n",
    "3. **SKH** (Sengkang): 348.9 avg daily attendances\n",
    "\n",
    "#### **Lowest Volume Hospitals**\n",
    "1. **AH** (Alexandra): 64.2 avg daily attendances\n",
    "2. **WH** (Woodlands): 84.0 avg daily attendances (noting late opening)\n",
    "\n",
    "#### **Variability Analysis**\n",
    "- **Most Stable**: SGH (std: 34.4), SKH (std: 36.6)\n",
    "- **Most Variable**: WH (std: 96.5 - due to late opening), KTPH (std: 54.7)\n",
    "\n",
    "#### **Notable Observations**\n",
    "- **WH Hospital**: Shows high variability due to opening mid-dataset period\n",
    "- **Range Consistency**: Most hospitals show similar operational ranges except AH (smaller) and WH (affected by opening date)\n",
    "- **Total Daily System Load**: ~2,455 average daily ED attendances across all hospitals"
   ]
  },
  {
   "cell_type": "markdown",
   "id": "84f5940a",
   "metadata": {},
   "source": [
    "## Total Daily Attendance"
   ]
  },
  {
   "cell_type": "code",
   "execution_count": 71,
   "id": "43aadaad",
   "metadata": {},
   "outputs": [
    {
     "name": "stdout",
     "output_type": "stream",
     "text": [
      "Average daily total: 2455.38\n",
      "Minimum daily total: 1772\n",
      "Maximum daily total: 3317\n",
      "Standard deviation of daily total: 261.93\n"
     ]
    }
   ],
   "source": [
    "data[\"Total Daily Attendance\"] = data[hospital_cols].sum(axis=1)\n",
    "print(f\"Average daily total: {data['Total Daily Attendance'].mean():.2f}\")\n",
    "print(f\"Minimum daily total: {data['Total Daily Attendance'].min()}\")\n",
    "print(f\"Maximum daily total: {data['Total Daily Attendance'].max()}\")\n",
    "print(f\"Standard deviation of daily total: {data['Total Daily Attendance'].std():.2f}\")"
   ]
  },
  {
   "cell_type": "markdown",
   "id": "9b3468a3",
   "metadata": {},
   "source": [
    "## Total Daily Attendance Analysis\n",
    "\n",
    "### 🔢 **Key Metrics Summary**\n",
    "- **Average Daily Total**: 2,455 ED attendances across all hospitals\n",
    "- **Minimum Daily Total**: 1,772 attendances (lowest system load)\n",
    "- **Maximum Daily Total**: 3,317 attendances (peak system load)\n",
    "- **Standard Deviation**: 262 attendances (moderate system variability)\n",
    "\n",
    "### 📊 **System Load Insights**\n",
    "- **Daily Range**: ~1,545 attendance difference between min/max days\n",
    "- **Coefficient of Variation**: ~10.7% (262/2455) - indicates moderate daily variability\n",
    "- **Peak vs Average**: Peak days are ~35% higher than average\n",
    "- **Low vs Average**: Minimum days are ~28% below average\n",
    "\n",
    "### 🎯 **Implications for SARIMAX Forecasting**\n",
    "- **Predictable Range**: System operates within well-defined bounds\n",
    "- **Moderate Variability**: Higher standard deviation suggests more complex patterns to model\n",
    "- **Seasonal Patterns**: Range indicates strong day-of-week and seasonal effects\n",
    "- **Capacity Planning**: Clear metrics for resource allocation across 7-day forecast horizon"
   ]
  },
  {
   "cell_type": "markdown",
   "id": "51933fed",
   "metadata": {},
   "source": [
    "## Seasonal Patterns"
   ]
  },
  {
   "cell_type": "code",
   "execution_count": null,
   "id": "bef5e648",
   "metadata": {},
   "outputs": [
    {
     "name": "stdout",
     "output_type": "stream",
     "text": [
      "DayOfWeek\n",
      "Monday       2862.200000\n",
      "Tuesday      2576.378571\n",
      "Wednesday    2489.750000\n",
      "Thursday     2465.950000\n",
      "Friday       2391.471429\n",
      "Saturday     2186.514286\n",
      "Sunday       2215.378571\n",
      "Name: Total Daily Attendance, dtype: float64\n"
     ]
    }
   ],
   "source": [
    "# Average attendance by day of the week \n",
    "daily_avg = data.groupby(\"DayOfWeek\")[\"Total Daily Attendance\"].mean()\n",
    "day_mapping = {0: 'Monday', 1: 'Tuesday', 2: 'Wednesday', 3: 'Thursday', \n",
    "               4: 'Friday', 5: 'Saturday', 6: 'Sunday'}\n",
    "\n",
    "# Rename the index to day names\n",
    "daily_avg.index = daily_avg.index.map(day_mapping)\n",
    "\n",
    "# Reindex with day names\n",
    "ordered_days = [\"Monday\", \"Tuesday\", \"Wednesday\", \"Thursday\", \"Friday\", \"Saturday\", \"Sunday\"]\n",
    "print(daily_avg.reindex(ordered_days))"
   ]
  },
  {
   "cell_type": "code",
   "execution_count": 88,
   "id": "acf38673",
   "metadata": {},
   "outputs": [
    {
     "name": "stdout",
     "output_type": "stream",
     "text": [
      "Month\n",
      "January      2441.774194\n",
      "February     2494.705882\n",
      "March        2407.795699\n",
      "April        2474.255556\n",
      "May          2482.892473\n",
      "June         2400.000000\n",
      "July         2508.924731\n",
      "August       2453.795699\n",
      "September    2447.984848\n",
      "October      2446.145161\n",
      "November     2415.633333\n",
      "December     2482.564516\n",
      "Name: Total Daily Attendance, dtype: float64\n"
     ]
    }
   ],
   "source": [
    "# Average attendance by month\n",
    "monthly_avg = data.groupby(\"Month\")[\"Total Daily Attendance\"].mean()\n",
    "month_mapping = {1: 'January', 2: 'February', 3: 'March', 4: 'April', \n",
    "                 5: 'May', 6: 'June', 7: 'July', 8: 'August', \n",
    "                 9: 'September', 10: 'October', 11: 'November', 12: 'December'}\n",
    "\n",
    "# Rename the index to month names\n",
    "monthly_avg.index = monthly_avg.index.map(month_mapping)\n",
    "\n",
    "# Reindex with month names\n",
    "ordered_months = [\"January\", \"February\", \"March\", \"April\", \"May\", \"June\", \n",
    "                  \"July\", \"August\", \"September\", \"October\", \"November\", \"December\"]\n",
    "monthly_avg = monthly_avg.reindex(ordered_months)\n",
    "print(monthly_avg.reindex(ordered_months))"
   ]
  },
  {
   "cell_type": "markdown",
   "id": "3dfc5e34",
   "metadata": {},
   "source": [
    "### 📊 **Key Seasonal Insights**\n",
    "\n",
    "#### **Monthly Patterns**\n",
    "- **Highest Volume**: July (2,508.9 avg) - summer peak\n",
    "- **Lowest Volume**: March (2,407.8 avg) - post-winter lull\n",
    "- **Variation Range**: ~101 attendances between peak and trough\n",
    "- **Seasonal Stability**: Relatively consistent monthly patterns (~4% variation)\n",
    "\n",
    "#### **Weekly Patterns**\n",
    "- **Peak Day**: Monday (2,862.2 avg) - \"Monday Effect\" observed\n",
    "- **Lowest Day**: Saturday (2,186.5 avg) - weekend reduction\n",
    "- **Weekday Decline**: Steady decrease from Monday to Friday\n",
    "- **Weekend Pattern**: Saturday lowest, Sunday slight recovery\n",
    "- **Weekly Range**: ~676 attendances between Monday and Saturday\n",
    "\n",
    "#### **SARIMAX Modeling Implications**\n",
    "- **Strong Weekly Seasonality**: Clear 7-day cycle for modeling\n",
    "- **Moderate Monthly Effects**: Seasonal component needed\n",
    "- **Monday Surge**: 31% higher than weekend averages\n",
    "- **Weekend Reduction**: ~23% lower than weekday peak"
   ]
  },
  {
   "cell_type": "code",
   "execution_count": null,
   "id": "9bddf400",
   "metadata": {},
   "outputs": [],
   "source": []
  }
 ],
 "metadata": {
  "kernelspec": {
   "display_name": "Python 3",
   "language": "python",
   "name": "python3"
  },
  "language_info": {
   "codemirror_mode": {
    "name": "ipython",
    "version": 3
   },
   "file_extension": ".py",
   "mimetype": "text/x-python",
   "name": "python",
   "nbconvert_exporter": "python",
   "pygments_lexer": "ipython3",
   "version": "3.10.12"
  }
 },
 "nbformat": 4,
 "nbformat_minor": 5
}
